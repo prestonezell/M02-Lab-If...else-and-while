{
 "cells": [
  {
   "cell_type": "code",
   "execution_count": null,
   "id": "2c3cf930",
   "metadata": {},
   "outputs": [],
   "source": [
    "#Preston Ezell\n",
    "#Student GPA processing app\n",
    "#This app will check if a student's GPA made the deans list or honor roll"
   ]
  },
  {
   "cell_type": "code",
   "execution_count": 7,
   "id": "64cf628c",
   "metadata": {
    "scrolled": true
   },
   "outputs": [
    {
     "name": "stdout",
     "output_type": "stream",
     "text": [
      "Enter student's last name: Ezell\n",
      "Enter student's first name: Preston\n",
      "Enter student's GPA: 1.0\n",
      "Keep studying, Preston Ezell!\n",
      "Enter student's last name: Montes\n",
      "Enter student's first name: Rachel\n",
      "Enter student's GPA: 1.2\n",
      "Keep studying, Rachel Montes!\n",
      "Enter student's last name: Wood\n",
      "Enter student's first name: Emma\n",
      "Enter student's GPA: 4.0\n",
      "Emma Wood has made the Dean's List!\n",
      "Enter student's last name: Maidana\n",
      "Enter student's first name: Maria\n",
      "Enter student's GPA: 3.3\n",
      "Maria Maidana has made the Honor Roll!\n",
      "Enter student's last name: Delaney\n",
      "Enter student's first name: Alicia\n",
      "Enter student's GPA: popcorn\n",
      "Please enter a valid number.\n",
      "Enter student's GPA: 3.4\n",
      "Alicia Delaney has made the Honor Roll!\n",
      "Enter student's last name: ZZZ\n",
      "Exited student record processing.\n"
     ]
    }
   ],
   "source": [
    "\n",
    "while True:\n",
    "     \n",
    "        lastname = input(\"Enter student's last name: \")\n",
    "        if lastname.lower() == \"zzz\":\n",
    "            print(\"Exited student record processing.\")\n",
    "            break\n",
    "    \n",
    "        firstname = input(\"Enter student's first name: \")\n",
    "        while True:\n",
    "        \n",
    "            gpa = input(\"Enter student's GPA: \")\n",
    "            try:\n",
    "                float_value = float(gpa)\n",
    "                if float_value >= 3.5:\n",
    "                    print(firstname + \" \" + lastname + \" has made the Dean's List!\")\n",
    "                elif float_value < 3.5 and float_value >= 3.25:\n",
    "                    print(firstname + \" \" + lastname + \" has made the Honor Roll!\")\n",
    "                else:\n",
    "                    print(\"Keep studying, \" + firstname + \" \" + lastname + \"!\")\n",
    "                break\n",
    "            except ValueError:\n",
    "                print(\"Please enter a valid number.\")\n",
    "        \n",
    "\n",
    "        "
   ]
  }
 ],
 "metadata": {
  "kernelspec": {
   "display_name": "Python 3 (ipykernel)",
   "language": "python",
   "name": "python3"
  },
  "language_info": {
   "codemirror_mode": {
    "name": "ipython",
    "version": 3
   },
   "file_extension": ".py",
   "mimetype": "text/x-python",
   "name": "python",
   "nbconvert_exporter": "python",
   "pygments_lexer": "ipython3",
   "version": "3.11.4"
  }
 },
 "nbformat": 4,
 "nbformat_minor": 5
}
